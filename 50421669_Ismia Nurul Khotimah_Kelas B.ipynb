{
 "cells": [
  {
   "cell_type": "code",
   "execution_count": 1,
   "id": "d81ad484-a362-4b07-b7ab-31e5e7249ba0",
   "metadata": {},
   "outputs": [],
   "source": [
    "#Import Library\n",
    "import pandas as pd"
   ]
  },
  {
   "cell_type": "code",
   "execution_count": 2,
   "id": "1b9a619d-4902-4d56-bf0e-05c730360e8e",
   "metadata": {},
   "outputs": [],
   "source": [
    "#Data preparation\n",
    "df = pd.read_csv(\"data.csv\")"
   ]
  },
  {
   "cell_type": "code",
   "execution_count": 3,
   "id": "832f737b-ca87-4799-ae60-3b26ff0880c8",
   "metadata": {},
   "outputs": [
    {
     "data": {
      "text/plain": [
       "(128061, 9)"
      ]
     },
     "execution_count": 3,
     "metadata": {},
     "output_type": "execute_result"
    }
   ],
   "source": [
    "#Cek dimensi data\n",
    "df.shape"
   ]
  },
  {
   "cell_type": "code",
   "execution_count": 4,
   "id": "d2b63bd9-88d4-4fde-b0e7-33bd3f30dff5",
   "metadata": {},
   "outputs": [
    {
     "data": {
      "text/html": [
       "<div>\n",
       "<style scoped>\n",
       "    .dataframe tbody tr th:only-of-type {\n",
       "        vertical-align: middle;\n",
       "    }\n",
       "\n",
       "    .dataframe tbody tr th {\n",
       "        vertical-align: top;\n",
       "    }\n",
       "\n",
       "    .dataframe thead th {\n",
       "        text-align: right;\n",
       "    }\n",
       "</style>\n",
       "<table border=\"1\" class=\"dataframe\">\n",
       "  <thead>\n",
       "    <tr style=\"text-align: right;\">\n",
       "      <th></th>\n",
       "      <th>Age</th>\n",
       "      <th>Gender</th>\n",
       "      <th>Education</th>\n",
       "      <th>Introversion Score</th>\n",
       "      <th>Sensing Score</th>\n",
       "      <th>Thinking Score</th>\n",
       "      <th>Judging Score</th>\n",
       "      <th>Interest</th>\n",
       "      <th>Personality</th>\n",
       "    </tr>\n",
       "  </thead>\n",
       "  <tbody>\n",
       "    <tr>\n",
       "      <th>0</th>\n",
       "      <td>19.0</td>\n",
       "      <td>Male</td>\n",
       "      <td>0</td>\n",
       "      <td>9.47080</td>\n",
       "      <td>7.141434</td>\n",
       "      <td>6.03696</td>\n",
       "      <td>4.360278</td>\n",
       "      <td>Unknown</td>\n",
       "      <td>ENFP</td>\n",
       "    </tr>\n",
       "    <tr>\n",
       "      <th>1</th>\n",
       "      <td>27.0</td>\n",
       "      <td>Female</td>\n",
       "      <td>0</td>\n",
       "      <td>5.85392</td>\n",
       "      <td>6.160195</td>\n",
       "      <td>0.80552</td>\n",
       "      <td>4.221421</td>\n",
       "      <td>Sports</td>\n",
       "      <td>ESFP</td>\n",
       "    </tr>\n",
       "    <tr>\n",
       "      <th>2</th>\n",
       "      <td>21.0</td>\n",
       "      <td>Female</td>\n",
       "      <td>0</td>\n",
       "      <td>7.08615</td>\n",
       "      <td>3.388433</td>\n",
       "      <td>2.66188</td>\n",
       "      <td>5.127320</td>\n",
       "      <td>Unknown</td>\n",
       "      <td>ENFP</td>\n",
       "    </tr>\n",
       "    <tr>\n",
       "      <th>3</th>\n",
       "      <td>28.0</td>\n",
       "      <td>Male</td>\n",
       "      <td>0</td>\n",
       "      <td>2.01892</td>\n",
       "      <td>4.823624</td>\n",
       "      <td>7.30625</td>\n",
       "      <td>5.986550</td>\n",
       "      <td>Others</td>\n",
       "      <td>INTP</td>\n",
       "    </tr>\n",
       "    <tr>\n",
       "      <th>4</th>\n",
       "      <td>36.0</td>\n",
       "      <td>Female</td>\n",
       "      <td>1</td>\n",
       "      <td>9.91703</td>\n",
       "      <td>4.755080</td>\n",
       "      <td>5.31469</td>\n",
       "      <td>4.677213</td>\n",
       "      <td>Technology</td>\n",
       "      <td>ENFP</td>\n",
       "    </tr>\n",
       "  </tbody>\n",
       "</table>\n",
       "</div>"
      ],
      "text/plain": [
       "    Age  Gender  Education  Introversion Score  Sensing Score  Thinking Score  \\\n",
       "0  19.0    Male          0             9.47080       7.141434         6.03696   \n",
       "1  27.0  Female          0             5.85392       6.160195         0.80552   \n",
       "2  21.0  Female          0             7.08615       3.388433         2.66188   \n",
       "3  28.0    Male          0             2.01892       4.823624         7.30625   \n",
       "4  36.0  Female          1             9.91703       4.755080         5.31469   \n",
       "\n",
       "   Judging Score    Interest Personality  \n",
       "0       4.360278     Unknown        ENFP  \n",
       "1       4.221421      Sports        ESFP  \n",
       "2       5.127320     Unknown        ENFP  \n",
       "3       5.986550      Others        INTP  \n",
       "4       4.677213  Technology        ENFP  "
      ]
     },
     "execution_count": 4,
     "metadata": {},
     "output_type": "execute_result"
    }
   ],
   "source": [
    "#Menampilkan 5 data teratas\n",
    "df.head(5)"
   ]
  },
  {
   "cell_type": "code",
   "execution_count": 5,
   "id": "f40ee0f4-5689-4bdc-9c8d-ebbb00491450",
   "metadata": {},
   "outputs": [
    {
     "data": {
      "text/html": [
       "<div>\n",
       "<style scoped>\n",
       "    .dataframe tbody tr th:only-of-type {\n",
       "        vertical-align: middle;\n",
       "    }\n",
       "\n",
       "    .dataframe tbody tr th {\n",
       "        vertical-align: top;\n",
       "    }\n",
       "\n",
       "    .dataframe thead th {\n",
       "        text-align: right;\n",
       "    }\n",
       "</style>\n",
       "<table border=\"1\" class=\"dataframe\">\n",
       "  <thead>\n",
       "    <tr style=\"text-align: right;\">\n",
       "      <th></th>\n",
       "      <th>Age</th>\n",
       "      <th>Gender</th>\n",
       "      <th>Education</th>\n",
       "      <th>Introversion Score</th>\n",
       "      <th>Sensing Score</th>\n",
       "      <th>Thinking Score</th>\n",
       "      <th>Judging Score</th>\n",
       "      <th>Interest</th>\n",
       "      <th>Personality</th>\n",
       "    </tr>\n",
       "  </thead>\n",
       "  <tbody>\n",
       "    <tr>\n",
       "      <th>128056</th>\n",
       "      <td>27.0</td>\n",
       "      <td>Male</td>\n",
       "      <td>0</td>\n",
       "      <td>5.11456</td>\n",
       "      <td>7.764336</td>\n",
       "      <td>5.72341</td>\n",
       "      <td>2.686904</td>\n",
       "      <td>Arts</td>\n",
       "      <td>ESTP</td>\n",
       "    </tr>\n",
       "    <tr>\n",
       "      <th>128057</th>\n",
       "      <td>19.0</td>\n",
       "      <td>Male</td>\n",
       "      <td>0</td>\n",
       "      <td>3.00078</td>\n",
       "      <td>2.525392</td>\n",
       "      <td>4.71081</td>\n",
       "      <td>3.657814</td>\n",
       "      <td>Unknown</td>\n",
       "      <td>INFP</td>\n",
       "    </tr>\n",
       "    <tr>\n",
       "      <th>128058</th>\n",
       "      <td>26.0</td>\n",
       "      <td>Female</td>\n",
       "      <td>1</td>\n",
       "      <td>8.16219</td>\n",
       "      <td>3.433857</td>\n",
       "      <td>2.45531</td>\n",
       "      <td>5.541144</td>\n",
       "      <td>Arts</td>\n",
       "      <td>ENFP</td>\n",
       "    </tr>\n",
       "    <tr>\n",
       "      <th>128059</th>\n",
       "      <td>24.0</td>\n",
       "      <td>Male</td>\n",
       "      <td>0</td>\n",
       "      <td>9.37782</td>\n",
       "      <td>5.077443</td>\n",
       "      <td>1.79598</td>\n",
       "      <td>6.762643</td>\n",
       "      <td>Unknown</td>\n",
       "      <td>ENFJ</td>\n",
       "    </tr>\n",
       "    <tr>\n",
       "      <th>128060</th>\n",
       "      <td>27.0</td>\n",
       "      <td>Male</td>\n",
       "      <td>0</td>\n",
       "      <td>7.78827</td>\n",
       "      <td>4.770737</td>\n",
       "      <td>3.18600</td>\n",
       "      <td>6.204355</td>\n",
       "      <td>Others</td>\n",
       "      <td>ENFJ</td>\n",
       "    </tr>\n",
       "  </tbody>\n",
       "</table>\n",
       "</div>"
      ],
      "text/plain": [
       "         Age  Gender  Education  Introversion Score  Sensing Score  \\\n",
       "128056  27.0    Male          0             5.11456       7.764336   \n",
       "128057  19.0    Male          0             3.00078       2.525392   \n",
       "128058  26.0  Female          1             8.16219       3.433857   \n",
       "128059  24.0    Male          0             9.37782       5.077443   \n",
       "128060  27.0    Male          0             7.78827       4.770737   \n",
       "\n",
       "        Thinking Score  Judging Score Interest Personality  \n",
       "128056         5.72341       2.686904     Arts        ESTP  \n",
       "128057         4.71081       3.657814  Unknown        INFP  \n",
       "128058         2.45531       5.541144     Arts        ENFP  \n",
       "128059         1.79598       6.762643  Unknown        ENFJ  \n",
       "128060         3.18600       6.204355   Others        ENFJ  "
      ]
     },
     "execution_count": 5,
     "metadata": {},
     "output_type": "execute_result"
    }
   ],
   "source": [
    "df.tail(5)"
   ]
  },
  {
   "cell_type": "code",
   "execution_count": 6,
   "id": "dce4e4cb-21cc-4762-8a63-e5ccac18fa32",
   "metadata": {},
   "outputs": [],
   "source": [
    "# import library\n",
    "import numpy as np\n",
    "import matplotlib.pyplot as plt \n",
    "import seaborn as sns"
   ]
  },
  {
   "cell_type": "code",
   "execution_count": 7,
   "id": "9a6a90d2-5439-41d5-9fdc-6ed98da279bd",
   "metadata": {},
   "outputs": [
    {
     "data": {
      "text/plain": [
       "Age                   float64\n",
       "Gender                 object\n",
       "Education               int64\n",
       "Introversion Score    float64\n",
       "Sensing Score         float64\n",
       "Thinking Score        float64\n",
       "Judging Score         float64\n",
       "Interest               object\n",
       "Personality            object\n",
       "dtype: object"
      ]
     },
     "execution_count": 7,
     "metadata": {},
     "output_type": "execute_result"
    }
   ],
   "source": [
    "#Cek tipe data\n",
    "df.dtypes"
   ]
  },
  {
   "cell_type": "code",
   "execution_count": 8,
   "id": "c4bf94d5-bf90-4cdc-b0c6-018785d9f7fa",
   "metadata": {},
   "outputs": [
    {
     "data": {
      "text/html": [
       "<div>\n",
       "<style scoped>\n",
       "    .dataframe tbody tr th:only-of-type {\n",
       "        vertical-align: middle;\n",
       "    }\n",
       "\n",
       "    .dataframe tbody tr th {\n",
       "        vertical-align: top;\n",
       "    }\n",
       "\n",
       "    .dataframe thead th {\n",
       "        text-align: right;\n",
       "    }\n",
       "</style>\n",
       "<table border=\"1\" class=\"dataframe\">\n",
       "  <thead>\n",
       "    <tr style=\"text-align: right;\">\n",
       "      <th></th>\n",
       "      <th>Age</th>\n",
       "      <th>Education</th>\n",
       "      <th>Introversion Score</th>\n",
       "      <th>Sensing Score</th>\n",
       "      <th>Thinking Score</th>\n",
       "      <th>Judging Score</th>\n",
       "    </tr>\n",
       "  </thead>\n",
       "  <tbody>\n",
       "    <tr>\n",
       "      <th>count</th>\n",
       "      <td>128061.000000</td>\n",
       "      <td>128061.000000</td>\n",
       "      <td>128061.000000</td>\n",
       "      <td>128061.000000</td>\n",
       "      <td>128061.000000</td>\n",
       "      <td>128061.000000</td>\n",
       "    </tr>\n",
       "    <tr>\n",
       "      <th>mean</th>\n",
       "      <td>26.349091</td>\n",
       "      <td>0.411156</td>\n",
       "      <td>4.996387</td>\n",
       "      <td>5.081893</td>\n",
       "      <td>4.988040</td>\n",
       "      <td>4.578293</td>\n",
       "    </tr>\n",
       "    <tr>\n",
       "      <th>std</th>\n",
       "      <td>4.908022</td>\n",
       "      <td>0.492045</td>\n",
       "      <td>2.888636</td>\n",
       "      <td>1.183236</td>\n",
       "      <td>2.886018</td>\n",
       "      <td>1.391582</td>\n",
       "    </tr>\n",
       "    <tr>\n",
       "      <th>min</th>\n",
       "      <td>18.000000</td>\n",
       "      <td>0.000000</td>\n",
       "      <td>0.000040</td>\n",
       "      <td>0.000000</td>\n",
       "      <td>0.000050</td>\n",
       "      <td>0.000000</td>\n",
       "    </tr>\n",
       "    <tr>\n",
       "      <th>25%</th>\n",
       "      <td>23.000000</td>\n",
       "      <td>0.000000</td>\n",
       "      <td>2.490710</td>\n",
       "      <td>4.315659</td>\n",
       "      <td>2.488630</td>\n",
       "      <td>3.709353</td>\n",
       "    </tr>\n",
       "    <tr>\n",
       "      <th>50%</th>\n",
       "      <td>25.000000</td>\n",
       "      <td>0.000000</td>\n",
       "      <td>4.993640</td>\n",
       "      <td>5.124169</td>\n",
       "      <td>4.984180</td>\n",
       "      <td>4.690653</td>\n",
       "    </tr>\n",
       "    <tr>\n",
       "      <th>75%</th>\n",
       "      <td>29.000000</td>\n",
       "      <td>1.000000</td>\n",
       "      <td>7.500170</td>\n",
       "      <td>5.892288</td>\n",
       "      <td>7.492550</td>\n",
       "      <td>5.561229</td>\n",
       "    </tr>\n",
       "    <tr>\n",
       "      <th>max</th>\n",
       "      <td>57.000000</td>\n",
       "      <td>1.000000</td>\n",
       "      <td>9.999990</td>\n",
       "      <td>9.788815</td>\n",
       "      <td>9.999970</td>\n",
       "      <td>9.840494</td>\n",
       "    </tr>\n",
       "  </tbody>\n",
       "</table>\n",
       "</div>"
      ],
      "text/plain": [
       "                 Age      Education  Introversion Score  Sensing Score  \\\n",
       "count  128061.000000  128061.000000       128061.000000  128061.000000   \n",
       "mean       26.349091       0.411156            4.996387       5.081893   \n",
       "std         4.908022       0.492045            2.888636       1.183236   \n",
       "min        18.000000       0.000000            0.000040       0.000000   \n",
       "25%        23.000000       0.000000            2.490710       4.315659   \n",
       "50%        25.000000       0.000000            4.993640       5.124169   \n",
       "75%        29.000000       1.000000            7.500170       5.892288   \n",
       "max        57.000000       1.000000            9.999990       9.788815   \n",
       "\n",
       "       Thinking Score  Judging Score  \n",
       "count   128061.000000  128061.000000  \n",
       "mean         4.988040       4.578293  \n",
       "std          2.886018       1.391582  \n",
       "min          0.000050       0.000000  \n",
       "25%          2.488630       3.709353  \n",
       "50%          4.984180       4.690653  \n",
       "75%          7.492550       5.561229  \n",
       "max          9.999970       9.840494  "
      ]
     },
     "execution_count": 8,
     "metadata": {},
     "output_type": "execute_result"
    }
   ],
   "source": [
    "#statistik dasar\n",
    "df.describe()"
   ]
  },
  {
   "cell_type": "code",
   "execution_count": 9,
   "id": "f75b49d8-34fd-4532-ada5-24bc96f8d6b1",
   "metadata": {},
   "outputs": [],
   "source": [
    "# Misalkan batas bawah dan atas didefinisikan berdasarkan IQR\n",
    "Q1 = df.select_dtypes(exclude=['object']).quantile(0.25)\n",
    "Q3 = df.select_dtypes(exclude=['object']).quantile(0.75)\n",
    "IQR = Q3 - Q1"
   ]
  },
  {
   "cell_type": "code",
   "execution_count": 10,
   "id": "e1ad5f54-e8c6-4da4-9726-401c33a0e257",
   "metadata": {},
   "outputs": [],
   "source": [
    "batas_bawah = Q1 - 1.5 * IQR\n",
    "batas_atas = Q3 + 1.5 * IQR"
   ]
  },
  {
   "cell_type": "code",
   "execution_count": 11,
   "id": "bf88f331-13ec-4945-82d1-6ea2e349c3c1",
   "metadata": {},
   "outputs": [],
   "source": [
    "# Pilih kolom numerik dari dataframe\n",
    "numeric_cols = df.select_dtypes(exclude=['object'])"
   ]
  },
  {
   "cell_type": "code",
   "execution_count": 12,
   "id": "c5ae89de-2aae-4c75-9f39-f5ad60d03507",
   "metadata": {},
   "outputs": [],
   "source": [
    "# Membuat filter untuk mendeteksi outliers\n",
    "outlier_filter = (numeric_cols < batas_bawah) | (numeric_cols > batas_atas)"
   ]
  },
  {
   "cell_type": "code",
   "execution_count": 13,
   "id": "945b57ed-32ad-4fc2-8180-2a220687a005",
   "metadata": {},
   "outputs": [],
   "source": [
    "# Menampilkan data yang terdeteksi sebagai outlier\n",
    "outliers = df[outlier_filter.any(axis=1)]"
   ]
  },
  {
   "cell_type": "code",
   "execution_count": 14,
   "id": "3dc7ab35-bbaf-49ff-a5e4-ecec28a196c2",
   "metadata": {},
   "outputs": [
    {
     "data": {
      "text/plain": [
       "Age                   6.000000\n",
       "Education             1.000000\n",
       "Introversion Score    5.009460\n",
       "Sensing Score         1.576629\n",
       "Thinking Score        5.003920\n",
       "Judging Score         1.851876\n",
       "dtype: float64"
      ]
     },
     "execution_count": 14,
     "metadata": {},
     "output_type": "execute_result"
    }
   ],
   "source": [
    "q1 = df.select_dtypes(exclude=\"object\").quantile(0.25)\n",
    "q3 = df.select_dtypes(exclude=\"object\").quantile(0.75)\n",
    "iqr = q3-q1\n",
    "iqr"
   ]
  },
  {
   "cell_type": "code",
   "execution_count": 15,
   "id": "ef0fd5f1-04f7-4c1e-8202-2ce9a7e206d8",
   "metadata": {},
   "outputs": [
    {
     "data": {
      "text/plain": [
       "Age                   38.000000\n",
       "Education              2.500000\n",
       "Introversion Score    15.014360\n",
       "Sensing Score          8.257232\n",
       "Thinking Score        14.998430\n",
       "Judging Score          8.339044\n",
       "dtype: float64"
      ]
     },
     "execution_count": 15,
     "metadata": {},
     "output_type": "execute_result"
    }
   ],
   "source": [
    "batas_atas = q3 + 1.5 * iqr\n",
    "batas_atas"
   ]
  },
  {
   "cell_type": "code",
   "execution_count": 16,
   "id": "3f0e020f-80fc-49a9-bf58-96ab7e87a42b",
   "metadata": {},
   "outputs": [
    {
     "name": "stdout",
     "output_type": "stream",
     "text": [
      "<class 'pandas.core.frame.DataFrame'>\n",
      "RangeIndex: 128061 entries, 0 to 128060\n",
      "Data columns (total 9 columns):\n",
      " #   Column              Non-Null Count   Dtype  \n",
      "---  ------              --------------   -----  \n",
      " 0   Age                 128061 non-null  float64\n",
      " 1   Gender              128061 non-null  object \n",
      " 2   Education           128061 non-null  int64  \n",
      " 3   Introversion Score  128061 non-null  float64\n",
      " 4   Sensing Score       128061 non-null  float64\n",
      " 5   Thinking Score      128061 non-null  float64\n",
      " 6   Judging Score       128061 non-null  float64\n",
      " 7   Interest            128061 non-null  object \n",
      " 8   Personality         128061 non-null  object \n",
      "dtypes: float64(5), int64(1), object(3)\n",
      "memory usage: 8.8+ MB\n"
     ]
    }
   ],
   "source": [
    "# Cek Missing Values\n",
    "df.info()"
   ]
  },
  {
   "cell_type": "code",
   "execution_count": 17,
   "id": "7c42f85a-33ea-446f-bb33-70ff148402f8",
   "metadata": {},
   "outputs": [
    {
     "data": {
      "text/plain": [
       "Age                   0\n",
       "Gender                0\n",
       "Education             0\n",
       "Introversion Score    0\n",
       "Sensing Score         0\n",
       "Thinking Score        0\n",
       "Judging Score         0\n",
       "Interest              0\n",
       "Personality           0\n",
       "dtype: int64"
      ]
     },
     "execution_count": 17,
     "metadata": {},
     "output_type": "execute_result"
    }
   ],
   "source": [
    "# Missing values (Menghasilkan DataFrame dengan nilai boolean, di mana setiap elemen adalah True jika nilai pada posisi tersebut adalah null (kosong), dan False jika ada nilai)\n",
    "df.isnull().sum()"
   ]
  },
  {
   "cell_type": "code",
   "execution_count": 18,
   "id": "5905b9a0-46cf-44e6-b148-d0c712e67627",
   "metadata": {},
   "outputs": [],
   "source": [
    "# Fitur Selection\n",
    "X= df.iloc[:, [3,4]].values"
   ]
  },
  {
   "cell_type": "code",
   "execution_count": 19,
   "id": "1ad2b852-f16f-4b1c-8529-b4c2081371f9",
   "metadata": {},
   "outputs": [],
   "source": [
    "#Model K-means\n",
    "X = df.select_dtypes(exclude=['object']).values"
   ]
  },
  {
   "cell_type": "code",
   "execution_count": 20,
   "id": "eecd9738-d6ee-460c-8563-fb635b171baa",
   "metadata": {},
   "outputs": [],
   "source": [
    "# Import library KMeans dari sklearn\n",
    "from sklearn.cluster import KMeans"
   ]
  },
  {
   "cell_type": "code",
   "execution_count": 21,
   "id": "6efff9d8-46ad-40de-89bd-5dc65b238f7f",
   "metadata": {},
   "outputs": [],
   "source": [
    "# Definisikan list kosong untuk menyimpan WCSS (Within-Cluster Sum of Squares)\n",
    "wcss = []"
   ]
  },
  {
   "cell_type": "code",
   "execution_count": 22,
   "id": "ebf652cc-9b69-4352-b413-40938ee5bba9",
   "metadata": {},
   "outputs": [
    {
     "name": "stderr",
     "output_type": "stream",
     "text": [
      "OpenBLAS warning: precompiled NUM_THREADS exceeded, adding auxiliary array for thread metadata.\n",
      "To avoid this warning, please rebuild your copy of OpenBLAS with a larger NUM_THREADS setting\n",
      "or set the environment variable OPENBLAS_NUM_THREADS to 64 or lower\n"
     ]
    }
   ],
   "source": [
    "# Diasumsikan bahwa jumlah maksimal cluster yang mungkin ada dalam dataset adalah 10\n",
    "for i in range(1, 11):\n",
    "    kmeans = KMeans(n_clusters=i, init='k-means++', random_state=0)\n",
    "    kmeans.fit(X)  # X adalah dataset yang akan dikelompokkan\n",
    "    wcss.append(kmeans.inertia_)  # Menyimpan inertia ke dalam list wcss"
   ]
  },
  {
   "cell_type": "code",
   "execution_count": 23,
   "id": "6e7ff634-69e5-4df2-a4c8-200a140c991f",
   "metadata": {},
   "outputs": [
    {
     "name": "stdout",
     "output_type": "stream",
     "text": [
      "[5678265.045724953, 3607202.4723814027, 3043314.9527554596, 2654576.980478098, 2354272.542677591, 2115674.7088072565, 1928668.4405826696, 1783712.8176086692, 1662793.0088784017, 1581879.1256274174]\n"
     ]
    }
   ],
   "source": [
    "# Menampilkan WCSS untuk setiap jumlah cluster\n",
    "print(wcss)"
   ]
  },
  {
   "cell_type": "code",
   "execution_count": 24,
   "id": "49299ddc-fbb6-4900-8c4c-b999007f64e9",
   "metadata": {},
   "outputs": [],
   "source": [
    "#Diasumsikan bahwa jumlah maksimal cluster yang mungkin ada dalam dataset adalah 10\n",
    "for i in range(1, 11):\n",
    "    kmeans = KMeans(n_clusters=i, init='k-means++', random_state=0)\n",
    "    kmeans.fit(X)\n",
    "    wcss.append(kmeans.inertia_)"
   ]
  },
  {
   "cell_type": "code",
   "execution_count": 25,
   "id": "b725ea90-f841-4b37-8f65-d34b5844ce08",
   "metadata": {},
   "outputs": [],
   "source": [
    "#Visualisasi\n",
    "import seaborn as sns\n",
    "import matplotlib.pyplot as plt"
   ]
  },
  {
   "cell_type": "code",
   "execution_count": 26,
   "id": "a250f7f9-2faf-4f9a-a9e8-bf970ac1c6a5",
   "metadata": {},
   "outputs": [
    {
     "data": {
      "image/png": "[encoded data removed]",
      "text/plain": [
       "<Figure size 2000x200 with 1 Axes>"
      ]
     },
     "metadata": {},
     "output_type": "display_data"
    },
    {
     "data": {
      "image/png": "[encoded data removed]",
      "text/plain": [
       "<Figure size 2000x200 with 1 Axes>"
      ]
     },
     "metadata": {},
     "output_type": "display_data"
    },
    {
     "data": {
      "image/png": "[encoded data removed]",
      "text/plain": [
       "<Figure size 2000x200 with 1 Axes>"
      ]
     },
     "metadata": {},
     "output_type": "display_data"
    },
    {
     "data": {
      "image/png": "[encoded data removed]",
      "text/plain": [
       "<Figure size 2000x200 with 1 Axes>"
      ]
     },
     "metadata": {},
     "output_type": "display_data"
    },
    {
     "data": {
      "image/png": "[encoded data removed]",
      "text/plain": [
       "<Figure size 2000x200 with 1 Axes>"
      ]
     },
     "metadata": {},
     "output_type": "display_data"
    },
    {
     "data": {
      "image/png": "[encoded data removed]",
      "text/plain": [
       "<Figure size 2000x200 with 1 Axes>"
      ]
     },
     "metadata": {},
     "output_type": "display_data"
    }
   ],
   "source": [
    "# Mencari Outliers - Boxplot\n",
    "df_outlier = df.select_dtypes(exclude=['object'])\n",
    "for column in df_outlier:\n",
    "        plt.figure(figsize=(20,2))\n",
    "        sns.boxplot(data=df_outlier, x=column)"
   ]
  },
  {
   "cell_type": "code",
   "execution_count": 27,
   "id": "d1c7e30f-1012-4d5d-96db-edfd316cd423",
   "metadata": {},
   "outputs": [],
   "source": [
    "# Import library matplotlib\n",
    "import matplotlib.pyplot as plt"
   ]
  },
  {
   "cell_type": "code",
   "execution_count": 28,
   "id": "4be14599-701b-427d-b7f6-9b03680cf04a",
   "metadata": {},
   "outputs": [
    {
     "data": {
      "image/png": "[encoded data removed]",
      "text/plain": [
       "<Figure size 640x480 with 1 Axes>"
      ]
     },
     "metadata": {},
     "output_type": "display_data"
    }
   ],
   "source": [
    "# Visualisasi ELBOW\n",
    "plt.plot(range(1, len(wcss) + 1), wcss)\n",
    "plt.title('The Elbow Method')\n",
    "plt.xlabel('Number of Clusters')\n",
    "plt.ylabel('WCSS')\n",
    "plt.show()"
   ]
  },
  {
   "cell_type": "code",
   "execution_count": 29,
   "id": "b362ce51-312d-4dd2-a7c5-5b29e4c585ad",
   "metadata": {},
   "outputs": [],
   "source": [
    "# Pada plot ini, akan ada titik di mana kurva mulai menurun dengan lebih lambat, \n",
    "# membentuk sudut (mirip seperti siku atau \"elbow\"). Sudut terakhir dari kurva ini muncul ketika k=5, \n",
    "# yang menunjukkan bahwa 5 adalah jumlah optimal cluster.\n",
    "\n",
    "# Model Build\n",
    "kmeansmodel = KMeans(n_clusters= 5, init='k-means++', random_state=0)\n",
    "y_kmeans= kmeansmodel.fit_predict(X)"
   ]
  },
  {
   "cell_type": "code",
   "execution_count": 30,
   "id": "03b44a67-3779-4a75-a88f-8b98bb0b6b77",
   "metadata": {},
   "outputs": [
    {
     "data": {
      "image/png": "[encoded data removed]",
      "text/plain": [
       "<Figure size 640x480 with 1 Axes>"
      ]
     },
     "metadata": {},
     "output_type": "display_data"
    }
   ],
   "source": [
    "# Visualiasi semua clusters \n",
    "\n",
    "plt.scatter(X[y_kmeans == 0, 0], X[y_kmeans == 0, 1], s = 100, c = 'red', label = 'Cluster 1')\n",
    "plt.scatter(X[y_kmeans == 1, 0], X[y_kmeans == 1, 1], s = 100, c = 'blue', label = 'Cluster 2')\n",
    "plt.scatter(X[y_kmeans == 2, 0], X[y_kmeans == 2, 1], s = 100, c = 'green', label = 'Cluster 3')\n",
    "plt.scatter(X[y_kmeans == 3, 0], X[y_kmeans == 3, 1], s = 100, c = 'cyan', label = 'Cluster 4')\n",
    "plt.scatter(X[y_kmeans == 4, 0], X[y_kmeans == 4, 1], s = 100, c = 'magenta', label = 'Cluster 5')\n",
    "plt.scatter(kmeans.cluster_centers_[:, 0], kmeans.cluster_centers_[:, 1], s = 300, c = 'yellow', label = 'Centroids')\n",
    "plt.title('Clusters of customers')\n",
    "plt.xlabel('Annual Income (k$)')\n",
    "plt.ylabel('Spending Score (1-100)')\n",
    "plt.legend()\n",
    "plt.show()"
   ]
  },
  {
   "cell_type": "code",
   "execution_count": null,
   "id": "eed7a84a-b960-454f-b6d5-5427cfd1f144",
   "metadata": {},
   "outputs": [],
   "source": []
  }
 ],
 "metadata": {
  "kernelspec": {
   "display_name": "Python 3.12.0 64-bit",
   "language": "python",
   "name": "python3"
  },
  "language_info": {
   "codemirror_mode": {
    "name": "ipython",
    "version": 3
   },
   "file_extension": ".py",
   "mimetype": "text/x-python",
   "name": "python",
   "nbconvert_exporter": "python",
   "pygments_lexer": "ipython3",
   "version": "3.12.0"
  },
  "vscode": {
   "interpreter": {
    "hash": "3fcbd7240ee8f908d933dc7f71e8c42a1a91163b70ede8dcff5146d4087436c7"
   }
  }
 },
 "nbformat": 4,
 "nbformat_minor": 5
}
